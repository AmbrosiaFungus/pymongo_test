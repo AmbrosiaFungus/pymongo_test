{
 "cells": [
  {
   "cell_type": "code",
   "execution_count": 2,
   "metadata": {},
   "outputs": [],
   "source": [
    "import pandas as pd\n",
    "import pymongo"
   ]
  },
  {
   "cell_type": "code",
   "execution_count": 3,
   "metadata": {},
   "outputs": [],
   "source": [
    "df = pd.read_csv('dummy_data.csv', sep=',')"
   ]
  },
  {
   "cell_type": "code",
   "execution_count": 4,
   "metadata": {},
   "outputs": [
    {
     "data": {
      "text/html": [
       "<div>\n",
       "<style>\n",
       "    .dataframe thead tr:only-child th {\n",
       "        text-align: right;\n",
       "    }\n",
       "\n",
       "    .dataframe thead th {\n",
       "        text-align: left;\n",
       "    }\n",
       "\n",
       "    .dataframe tbody tr th {\n",
       "        vertical-align: top;\n",
       "    }\n",
       "</style>\n",
       "<table border=\"1\" class=\"dataframe\">\n",
       "  <thead>\n",
       "    <tr style=\"text-align: right;\">\n",
       "      <th></th>\n",
       "      <th>Observer</th>\n",
       "      <th>Sepal length</th>\n",
       "      <th>Sepal width</th>\n",
       "      <th>Petal length</th>\n",
       "      <th>Petal width</th>\n",
       "      <th>Species</th>\n",
       "      <th>Nr_cycle</th>\n",
       "      <th>varA</th>\n",
       "      <th>varB</th>\n",
       "      <th>varC</th>\n",
       "      <th>varD</th>\n",
       "    </tr>\n",
       "  </thead>\n",
       "  <tbody>\n",
       "    <tr>\n",
       "      <th>0</th>\n",
       "      <td>1</td>\n",
       "      <td>5.1</td>\n",
       "      <td>3.5</td>\n",
       "      <td>1.4</td>\n",
       "      <td>0.2</td>\n",
       "      <td>I. setosa</td>\n",
       "      <td>5</td>\n",
       "      <td>3.5</td>\n",
       "      <td>5.1</td>\n",
       "      <td>3.5</td>\n",
       "      <td>5.1</td>\n",
       "    </tr>\n",
       "    <tr>\n",
       "      <th>1</th>\n",
       "      <td>1</td>\n",
       "      <td>4.9</td>\n",
       "      <td>3.0</td>\n",
       "      <td>1.4</td>\n",
       "      <td>0.2</td>\n",
       "      <td>I. setosa</td>\n",
       "      <td>5</td>\n",
       "      <td>3.0</td>\n",
       "      <td>4.9</td>\n",
       "      <td>3.0</td>\n",
       "      <td>4.9</td>\n",
       "    </tr>\n",
       "    <tr>\n",
       "      <th>2</th>\n",
       "      <td>1</td>\n",
       "      <td>4.7</td>\n",
       "      <td>3.2</td>\n",
       "      <td>1.3</td>\n",
       "      <td>0.2</td>\n",
       "      <td>I. setosa</td>\n",
       "      <td>5</td>\n",
       "      <td>3.2</td>\n",
       "      <td>4.7</td>\n",
       "      <td>3.2</td>\n",
       "      <td>4.7</td>\n",
       "    </tr>\n",
       "    <tr>\n",
       "      <th>3</th>\n",
       "      <td>1</td>\n",
       "      <td>4.6</td>\n",
       "      <td>3.1</td>\n",
       "      <td>1.5</td>\n",
       "      <td>0.2</td>\n",
       "      <td>I. setosa</td>\n",
       "      <td>5</td>\n",
       "      <td>3.1</td>\n",
       "      <td>4.6</td>\n",
       "      <td>3.1</td>\n",
       "      <td>4.6</td>\n",
       "    </tr>\n",
       "    <tr>\n",
       "      <th>4</th>\n",
       "      <td>1</td>\n",
       "      <td>5.0</td>\n",
       "      <td>3.6</td>\n",
       "      <td>1.4</td>\n",
       "      <td>0.3</td>\n",
       "      <td>I. setosa</td>\n",
       "      <td>5</td>\n",
       "      <td>3.6</td>\n",
       "      <td>5.0</td>\n",
       "      <td>3.6</td>\n",
       "      <td>5.0</td>\n",
       "    </tr>\n",
       "  </tbody>\n",
       "</table>\n",
       "</div>"
      ],
      "text/plain": [
       "   Observer  Sepal length  Sepal width  Petal length  Petal width    Species  \\\n",
       "0         1           5.1          3.5           1.4          0.2  I. setosa   \n",
       "1         1           4.9          3.0           1.4          0.2  I. setosa   \n",
       "2         1           4.7          3.2           1.3          0.2  I. setosa   \n",
       "3         1           4.6          3.1           1.5          0.2  I. setosa   \n",
       "4         1           5.0          3.6           1.4          0.3  I. setosa   \n",
       "\n",
       "   Nr_cycle  varA  varB  varC  varD  \n",
       "0         5   3.5   5.1   3.5   5.1  \n",
       "1         5   3.0   4.9   3.0   4.9  \n",
       "2         5   3.2   4.7   3.2   4.7  \n",
       "3         5   3.1   4.6   3.1   4.6  \n",
       "4         5   3.6   5.0   3.6   5.0  "
      ]
     },
     "execution_count": 4,
     "metadata": {},
     "output_type": "execute_result"
    }
   ],
   "source": [
    "df.head()"
   ]
  },
  {
   "cell_type": "markdown",
   "metadata": {},
   "source": [
    "Have to convert df to a dictioanary per row to read into a mongo db"
   ]
  },
  {
   "cell_type": "code",
   "execution_count": 15,
   "metadata": {},
   "outputs": [],
   "source": [
    "iris_dic = df.to_dict(orient='records')"
   ]
  },
  {
   "cell_type": "markdown",
   "metadata": {},
   "source": []
  },
  {
   "cell_type": "markdown",
   "metadata": {},
   "source": [
    "Now we start the MongoDB"
   ]
  },
  {
   "cell_type": "code",
   "execution_count": 10,
   "metadata": {},
   "outputs": [],
   "source": [
    "from pymongo import MongoClient\n",
    "client = MongoClient()"
   ]
  },
  {
   "cell_type": "code",
   "execution_count": 11,
   "metadata": {},
   "outputs": [],
   "source": [
    "client = MongoClient('localhost', 27017)"
   ]
  },
  {
   "cell_type": "code",
   "execution_count": 24,
   "metadata": {},
   "outputs": [],
   "source": [
    "db = client['test-database']"
   ]
  },
  {
   "cell_type": "code",
   "execution_count": 27,
   "metadata": {},
   "outputs": [],
   "source": [
    "collection = db['iris_data_test']"
   ]
  },
  {
   "cell_type": "code",
   "execution_count": 30,
   "metadata": {},
   "outputs": [],
   "source": [
    "iris = db.iris"
   ]
  },
  {
   "cell_type": "code",
   "execution_count": 34,
   "metadata": {},
   "outputs": [
    {
     "data": {
      "text/plain": [
       "['iris']"
      ]
     },
     "execution_count": 34,
     "metadata": {},
     "output_type": "execute_result"
    }
   ],
   "source": [
    "db.list_collection_names()"
   ]
  },
  {
   "cell_type": "code",
   "execution_count": 43,
   "metadata": {},
   "outputs": [],
   "source": [
    "cursor = db.iris # choosing the collection you need"
   ]
  },
  {
   "cell_type": "markdown",
   "metadata": {},
   "source": [
    "for document in cursor.find():\n",
    "    print(document)"
   ]
  },
  {
   "cell_type": "code",
   "execution_count": 58,
   "metadata": {},
   "outputs": [
    {
     "name": "stdout",
     "output_type": "stream",
     "text": [
      "{'Sepal width': 3.5, 'Petal width': 0.2, 'Nr_cycle': 5, 'varD': 5.1, 'Petal length': 1.4, 'varB': 5.1, '_id': ObjectId('5cc353960dc9ab7be61225c7'), 'Observer': 1, 'Sepal length': 5.1, 'varC': 3.5, 'Species': 'I. setosa', 'varA': 3.5}\n",
      "{'Sepal width': 3.0, 'Petal width': 0.2, 'Nr_cycle': 5, 'varD': 4.9, 'Petal length': 1.4, 'varB': 4.9, '_id': ObjectId('5cc353960dc9ab7be61225c8'), 'Observer': 1, 'Sepal length': 4.9, 'varC': 3.0, 'Species': 'I. setosa', 'varA': 3.0}\n",
      "{'Sepal width': 3.2, 'Petal width': 0.2, 'Nr_cycle': 5, 'varD': 4.7, 'Petal length': 1.3, 'varB': 4.7, '_id': ObjectId('5cc353960dc9ab7be61225c9'), 'Observer': 1, 'Sepal length': 4.7, 'varC': 3.2, 'Species': 'I. setosa', 'varA': 3.2}\n",
      "{'Sepal width': 3.1, 'Petal width': 0.2, 'Nr_cycle': 5, 'varD': 4.6, 'Petal length': 1.5, 'varB': 4.6, '_id': ObjectId('5cc353960dc9ab7be61225ca'), 'Observer': 1, 'Sepal length': 4.6, 'varC': 3.1, 'Species': 'I. setosa', 'varA': 3.1}\n",
      "{'Sepal width': 3.6, 'Petal width': 0.3, 'Nr_cycle': 5, 'varD': 5.0, 'Petal length': 1.4, 'varB': 5.0, '_id': ObjectId('5cc353960dc9ab7be61225cb'), 'Observer': 1, 'Sepal length': 5.0, 'varC': 3.6, 'Species': 'I. setosa', 'varA': 3.6}\n",
      "{'Sepal width': 3.9, 'Petal width': 0.4, 'Nr_cycle': 5, 'varD': 5.4, 'Petal length': 1.7, 'varB': 5.4, '_id': ObjectId('5cc353960dc9ab7be61225cc'), 'Observer': 1, 'Sepal length': 5.4, 'varC': 3.9, 'Species': 'I. setosa', 'varA': 3.9}\n",
      "{'Sepal width': 3.4, 'Petal width': 0.3, 'Nr_cycle': 5, 'varD': 4.6, 'Petal length': 1.4, 'varB': 4.6, '_id': ObjectId('5cc353960dc9ab7be61225cd'), 'Observer': 1, 'Sepal length': 4.6, 'varC': 3.4, 'Species': 'I. setosa', 'varA': 3.4}\n",
      "{'Sepal width': 3.4, 'Petal width': 0.2, 'Nr_cycle': 5, 'varD': 5.0, 'Petal length': 1.5, 'varB': 5.0, '_id': ObjectId('5cc353960dc9ab7be61225ce'), 'Observer': 1, 'Sepal length': 5.0, 'varC': 3.4, 'Species': 'I. setosa', 'varA': 3.4}\n",
      "{'Sepal width': 2.9, 'Petal width': 0.2, 'Nr_cycle': 5, 'varD': 4.4, 'Petal length': 1.4, 'varB': 4.4, '_id': ObjectId('5cc353960dc9ab7be61225cf'), 'Observer': 1, 'Sepal length': 4.4, 'varC': 2.9, 'Species': 'I. setosa', 'varA': 2.9}\n",
      "{'Sepal width': 3.1, 'Petal width': 0.1, 'Nr_cycle': 5, 'varD': 4.9, 'Petal length': 1.5, 'varB': 4.9, '_id': ObjectId('5cc353960dc9ab7be61225d0'), 'Observer': 1, 'Sepal length': 4.9, 'varC': 3.1, 'Species': 'I. setosa', 'varA': 3.1}\n",
      "{'Sepal width': 3.7, 'Petal width': 0.2, 'Nr_cycle': 5, 'varD': 5.4, 'Petal length': 1.5, 'varB': 5.4, '_id': ObjectId('5cc353960dc9ab7be61225d1'), 'Observer': 1, 'Sepal length': 5.4, 'varC': 3.7, 'Species': 'I. setosa', 'varA': 3.7}\n",
      "{'Sepal width': 3.4, 'Petal width': 0.2, 'Nr_cycle': 5, 'varD': 4.8, 'Petal length': 1.6, 'varB': 4.8, '_id': ObjectId('5cc353960dc9ab7be61225d2'), 'Observer': 1, 'Sepal length': 4.8, 'varC': 3.4, 'Species': 'I. setosa', 'varA': 3.4}\n",
      "{'Sepal width': 3.0, 'Petal width': 0.1, 'Nr_cycle': 5, 'varD': 4.8, 'Petal length': 1.4, 'varB': 4.8, '_id': ObjectId('5cc353960dc9ab7be61225d3'), 'Observer': 1, 'Sepal length': 4.8, 'varC': 3.0, 'Species': 'I. setosa', 'varA': 3.0}\n",
      "{'Sepal width': 3.0, 'Petal width': 0.1, 'Nr_cycle': 5, 'varD': 4.3, 'Petal length': 1.1, 'varB': 4.3, '_id': ObjectId('5cc353960dc9ab7be61225d4'), 'Observer': 1, 'Sepal length': 4.3, 'varC': 3.0, 'Species': 'I. setosa', 'varA': 3.0}\n",
      "{'Sepal width': 4.0, 'Petal width': 0.2, 'Nr_cycle': 10, 'varD': 5.8, 'Petal length': 1.2, 'varB': 5.8, '_id': ObjectId('5cc353960dc9ab7be61225d5'), 'Observer': 1, 'Sepal length': 5.8, 'varC': 4.0, 'Species': 'I. setosa', 'varA': 4.0}\n",
      "{'Sepal width': 4.4, 'Petal width': 0.4, 'Nr_cycle': 10, 'varD': 5.7, 'Petal length': 1.5, 'varB': 5.7, '_id': ObjectId('5cc353960dc9ab7be61225d6'), 'Observer': 1, 'Sepal length': 5.7, 'varC': 4.4, 'Species': 'I. setosa', 'varA': 4.4}\n",
      "{'Sepal width': 3.9, 'Petal width': 0.4, 'Nr_cycle': 10, 'varD': 5.4, 'Petal length': 1.3, 'varB': 5.4, '_id': ObjectId('5cc353960dc9ab7be61225d7'), 'Observer': 1, 'Sepal length': 5.4, 'varC': 3.9, 'Species': 'I. setosa', 'varA': 3.9}\n",
      "{'Sepal width': 3.5, 'Petal width': 0.3, 'Nr_cycle': 10, 'varD': 5.1, 'Petal length': 1.4, 'varB': 5.1, '_id': ObjectId('5cc353960dc9ab7be61225d8'), 'Observer': 1, 'Sepal length': 5.1, 'varC': 3.5, 'Species': 'I. setosa', 'varA': 3.5}\n",
      "{'Sepal width': 3.8, 'Petal width': 0.3, 'Nr_cycle': 10, 'varD': 5.7, 'Petal length': 1.7, 'varB': 5.7, '_id': ObjectId('5cc353960dc9ab7be61225d9'), 'Observer': 1, 'Sepal length': 5.7, 'varC': 3.8, 'Species': 'I. setosa', 'varA': 3.8}\n",
      "{'Sepal width': 3.8, 'Petal width': 0.3, 'Nr_cycle': 10, 'varD': 5.1, 'Petal length': 1.5, 'varB': 5.1, '_id': ObjectId('5cc353960dc9ab7be61225da'), 'Observer': 1, 'Sepal length': 5.1, 'varC': 3.8, 'Species': 'I. setosa', 'varA': 3.8}\n",
      "{'Sepal width': 3.4, 'Petal width': 0.2, 'Nr_cycle': 10, 'varD': 5.4, 'Petal length': 1.7, 'varB': 5.4, '_id': ObjectId('5cc353960dc9ab7be61225db'), 'Observer': 1, 'Sepal length': 5.4, 'varC': 3.4, 'Species': 'I. setosa', 'varA': 3.4}\n",
      "{'Sepal width': 3.7, 'Petal width': 0.4, 'Nr_cycle': 10, 'varD': 5.1, 'Petal length': 1.5, 'varB': 5.1, '_id': ObjectId('5cc353960dc9ab7be61225dc'), 'Observer': 1, 'Sepal length': 5.1, 'varC': 3.7, 'Species': 'I. setosa', 'varA': 3.7}\n",
      "{'Sepal width': 3.6, 'Petal width': 0.2, 'Nr_cycle': 10, 'varD': 4.6, 'Petal length': 1.0, 'varB': 4.6, '_id': ObjectId('5cc353960dc9ab7be61225dd'), 'Observer': 1, 'Sepal length': 4.6, 'varC': 3.6, 'Species': 'I. setosa', 'varA': 3.6}\n",
      "{'Sepal width': 3.3, 'Petal width': 0.5, 'Nr_cycle': 10, 'varD': 5.1, 'Petal length': 1.7, 'varB': 5.1, '_id': ObjectId('5cc353960dc9ab7be61225de'), 'Observer': 1, 'Sepal length': 5.1, 'varC': 3.3, 'Species': 'I. setosa', 'varA': 3.3}\n",
      "{'Sepal width': 3.4, 'Petal width': 0.2, 'Nr_cycle': 10, 'varD': 4.8, 'Petal length': 1.9, 'varB': 4.8, '_id': ObjectId('5cc353960dc9ab7be61225df'), 'Observer': 1, 'Sepal length': 4.8, 'varC': 3.4, 'Species': 'I. setosa', 'varA': 3.4}\n",
      "{'Sepal width': 3.0, 'Petal width': 0.2, 'Nr_cycle': 10, 'varD': 5.0, 'Petal length': 1.6, 'varB': 5.0, '_id': ObjectId('5cc353960dc9ab7be61225e0'), 'Observer': 1, 'Sepal length': 5.0, 'varC': 3.0, 'Species': 'I. setosa', 'varA': 3.0}\n",
      "{'Sepal width': 3.4, 'Petal width': 0.4, 'Nr_cycle': 10, 'varD': 5.0, 'Petal length': 1.6, 'varB': 5.0, '_id': ObjectId('5cc353960dc9ab7be61225e1'), 'Observer': 1, 'Sepal length': 5.0, 'varC': 3.4, 'Species': 'I. setosa', 'varA': 3.4}\n",
      "{'Sepal width': 3.5, 'Petal width': 0.2, 'Nr_cycle': 12, 'varD': 5.2, 'Petal length': 1.5, 'varB': 5.2, '_id': ObjectId('5cc353960dc9ab7be61225e2'), 'Observer': 1, 'Sepal length': 5.2, 'varC': 3.5, 'Species': 'I. setosa', 'varA': 3.5}\n",
      "{'Sepal width': 3.4, 'Petal width': 0.2, 'Nr_cycle': 12, 'varD': 5.2, 'Petal length': 1.4, 'varB': 5.2, '_id': ObjectId('5cc353960dc9ab7be61225e3'), 'Observer': 1, 'Sepal length': 5.2, 'varC': 3.4, 'Species': 'I. setosa', 'varA': 3.4}\n",
      "{'Sepal width': 3.2, 'Petal width': 0.2, 'Nr_cycle': 12, 'varD': 4.7, 'Petal length': 1.6, 'varB': 4.7, '_id': ObjectId('5cc353960dc9ab7be61225e4'), 'Observer': 1, 'Sepal length': 4.7, 'varC': 3.2, 'Species': 'I. setosa', 'varA': 3.2}\n",
      "{'Sepal width': 3.1, 'Petal width': 0.2, 'Nr_cycle': 12, 'varD': 4.8, 'Petal length': 1.6, 'varB': 4.8, '_id': ObjectId('5cc353960dc9ab7be61225e5'), 'Observer': 1, 'Sepal length': 4.8, 'varC': 3.1, 'Species': 'I. setosa', 'varA': 3.1}\n",
      "{'Sepal width': 3.4, 'Petal width': 0.4, 'Nr_cycle': 12, 'varD': 5.4, 'Petal length': 1.5, 'varB': 5.4, '_id': ObjectId('5cc353960dc9ab7be61225e6'), 'Observer': 1, 'Sepal length': 5.4, 'varC': 3.4, 'Species': 'I. setosa', 'varA': 3.4}\n",
      "{'Sepal width': 4.1, 'Petal width': 0.1, 'Nr_cycle': 12, 'varD': 5.2, 'Petal length': 1.5, 'varB': 5.2, '_id': ObjectId('5cc353960dc9ab7be61225e7'), 'Observer': 1, 'Sepal length': 5.2, 'varC': 4.1, 'Species': 'I. setosa', 'varA': 4.1}\n",
      "{'Sepal width': 4.2, 'Petal width': 0.2, 'Nr_cycle': 12, 'varD': 5.5, 'Petal length': 1.4, 'varB': 5.5, '_id': ObjectId('5cc353960dc9ab7be61225e8'), 'Observer': 1, 'Sepal length': 5.5, 'varC': 4.2, 'Species': 'I. setosa', 'varA': 4.2}\n",
      "{'Sepal width': 3.1, 'Petal width': 0.2, 'Nr_cycle': 12, 'varD': 4.9, 'Petal length': 1.5, 'varB': 4.9, '_id': ObjectId('5cc353960dc9ab7be61225e9'), 'Observer': 1, 'Sepal length': 4.9, 'varC': 3.1, 'Species': 'I. setosa', 'varA': 3.1}\n",
      "{'Sepal width': 3.2, 'Petal width': 0.2, 'Nr_cycle': 12, 'varD': 5.0, 'Petal length': 1.2, 'varB': 5.0, '_id': ObjectId('5cc353960dc9ab7be61225ea'), 'Observer': 1, 'Sepal length': 5.0, 'varC': 3.2, 'Species': 'I. setosa', 'varA': 3.2}\n",
      "{'Sepal width': 3.5, 'Petal width': 0.2, 'Nr_cycle': 12, 'varD': 5.5, 'Petal length': 1.3, 'varB': 5.5, '_id': ObjectId('5cc353960dc9ab7be61225eb'), 'Observer': 1, 'Sepal length': 5.5, 'varC': 3.5, 'Species': 'I. setosa', 'varA': 3.5}\n",
      "{'Sepal width': 3.6, 'Petal width': 0.1, 'Nr_cycle': 12, 'varD': 4.9, 'Petal length': 1.4, 'varB': 4.9, '_id': ObjectId('5cc353960dc9ab7be61225ec'), 'Observer': 1, 'Sepal length': 4.9, 'varC': 3.6, 'Species': 'I. setosa', 'varA': 3.6}\n",
      "{'Sepal width': 3.0, 'Petal width': 0.2, 'Nr_cycle': 12, 'varD': 4.4, 'Petal length': 1.3, 'varB': 4.4, '_id': ObjectId('5cc353960dc9ab7be61225ed'), 'Observer': 1, 'Sepal length': 4.4, 'varC': 3.0, 'Species': 'I. setosa', 'varA': 3.0}\n",
      "{'Sepal width': 3.4, 'Petal width': 0.2, 'Nr_cycle': 12, 'varD': 5.1, 'Petal length': 1.5, 'varB': 5.1, '_id': ObjectId('5cc353960dc9ab7be61225ee'), 'Observer': 1, 'Sepal length': 5.1, 'varC': 3.4, 'Species': 'I. setosa', 'varA': 3.4}\n",
      "{'Sepal width': 3.5, 'Petal width': 0.3, 'Nr_cycle': 12, 'varD': 5.0, 'Petal length': 1.3, 'varB': 5.0, '_id': ObjectId('5cc353960dc9ab7be61225ef'), 'Observer': 1, 'Sepal length': 5.0, 'varC': 3.5, 'Species': 'I. setosa', 'varA': 3.5}\n",
      "{'Sepal width': 2.3, 'Petal width': 0.3, 'Nr_cycle': 12, 'varD': 4.5, 'Petal length': 1.3, 'varB': 4.5, '_id': ObjectId('5cc353960dc9ab7be61225f0'), 'Observer': 1, 'Sepal length': 4.5, 'varC': 2.3, 'Species': 'I. setosa', 'varA': 2.3}\n",
      "{'Sepal width': 3.2, 'Petal width': 0.2, 'Nr_cycle': 12, 'varD': 4.4, 'Petal length': 1.3, 'varB': 4.4, '_id': ObjectId('5cc353960dc9ab7be61225f1'), 'Observer': 1, 'Sepal length': 4.4, 'varC': 3.2, 'Species': 'I. setosa', 'varA': 3.2}\n",
      "{'Sepal width': 3.5, 'Petal width': 0.6, 'Nr_cycle': 12, 'varD': 5.0, 'Petal length': 1.6, 'varB': 5.0, '_id': ObjectId('5cc353960dc9ab7be61225f2'), 'Observer': 1, 'Sepal length': 5.0, 'varC': 3.5, 'Species': 'I. setosa', 'varA': 3.5}\n",
      "{'Sepal width': 3.8, 'Petal width': 0.4, 'Nr_cycle': 12, 'varD': 5.1, 'Petal length': 1.9, 'varB': 5.1, '_id': ObjectId('5cc353960dc9ab7be61225f3'), 'Observer': 1, 'Sepal length': 5.1, 'varC': 3.8, 'Species': 'I. setosa', 'varA': 3.8}\n",
      "{'Sepal width': 3.0, 'Petal width': 0.3, 'Nr_cycle': 12, 'varD': 4.8, 'Petal length': 1.4, 'varB': 4.8, '_id': ObjectId('5cc353960dc9ab7be61225f4'), 'Observer': 1, 'Sepal length': 4.8, 'varC': 3.0, 'Species': 'I. setosa', 'varA': 3.0}\n",
      "{'Sepal width': 3.8, 'Petal width': 0.2, 'Nr_cycle': 12, 'varD': 5.1, 'Petal length': 1.6, 'varB': 5.1, '_id': ObjectId('5cc353960dc9ab7be61225f5'), 'Observer': 1, 'Sepal length': 5.1, 'varC': 3.8, 'Species': 'I. setosa', 'varA': 3.8}\n",
      "{'Sepal width': 3.2, 'Petal width': 0.2, 'Nr_cycle': 12, 'varD': 4.6, 'Petal length': 1.4, 'varB': 4.6, '_id': ObjectId('5cc353960dc9ab7be61225f6'), 'Observer': 1, 'Sepal length': 4.6, 'varC': 3.2, 'Species': 'I. setosa', 'varA': 3.2}\n",
      "{'Sepal width': 3.7, 'Petal width': 0.2, 'Nr_cycle': 12, 'varD': 5.3, 'Petal length': 1.5, 'varB': 5.3, '_id': ObjectId('5cc353960dc9ab7be61225f7'), 'Observer': 1, 'Sepal length': 5.3, 'varC': 3.7, 'Species': 'I. setosa', 'varA': 3.7}\n",
      "{'Sepal width': 3.3, 'Petal width': 0.2, 'Nr_cycle': 12, 'varD': 5.0, 'Petal length': 1.4, 'varB': 5.0, '_id': ObjectId('5cc353960dc9ab7be61225f8'), 'Observer': 1, 'Sepal length': 5.0, 'varC': 3.3, 'Species': 'I. setosa', 'varA': 3.3}\n",
      "{'Sepal width': 3.2, 'Petal width': 1.4, 'Nr_cycle': 5, 'varD': 7.0, 'Petal length': 4.7, 'varB': 7.0, '_id': ObjectId('5cc353960dc9ab7be61225f9'), 'Observer': 1, 'Sepal length': 7.0, 'varC': 3.2, 'Species': 'I. versicolor', 'varA': 3.2}\n",
      "{'Sepal width': 3.2, 'Petal width': 1.5, 'Nr_cycle': 5, 'varD': 6.4, 'Petal length': 4.5, 'varB': 6.4, '_id': ObjectId('5cc353960dc9ab7be61225fa'), 'Observer': 1, 'Sepal length': 6.4, 'varC': 3.2, 'Species': 'I. versicolor', 'varA': 3.2}\n",
      "{'Sepal width': 3.1, 'Petal width': 1.5, 'Nr_cycle': 5, 'varD': 6.9, 'Petal length': 4.9, 'varB': 6.9, '_id': ObjectId('5cc353960dc9ab7be61225fb'), 'Observer': 1, 'Sepal length': 6.9, 'varC': 3.1, 'Species': 'I. versicolor', 'varA': 3.1}\n",
      "{'Sepal width': 2.3, 'Petal width': 1.3, 'Nr_cycle': 5, 'varD': 5.5, 'Petal length': 4.0, 'varB': 5.5, '_id': ObjectId('5cc353960dc9ab7be61225fc'), 'Observer': 1, 'Sepal length': 5.5, 'varC': 2.3, 'Species': 'I. versicolor', 'varA': 2.3}\n",
      "{'Sepal width': 2.8, 'Petal width': 1.5, 'Nr_cycle': 5, 'varD': 6.5, 'Petal length': 4.6, 'varB': 6.5, '_id': ObjectId('5cc353960dc9ab7be61225fd'), 'Observer': 1, 'Sepal length': 6.5, 'varC': 2.8, 'Species': 'I. versicolor', 'varA': 2.8}\n",
      "{'Sepal width': 2.8, 'Petal width': 1.3, 'Nr_cycle': 5, 'varD': 5.7, 'Petal length': 4.5, 'varB': 5.7, '_id': ObjectId('5cc353960dc9ab7be61225fe'), 'Observer': 1, 'Sepal length': 5.7, 'varC': 2.8, 'Species': 'I. versicolor', 'varA': 2.8}\n",
      "{'Sepal width': 3.3, 'Petal width': 1.6, 'Nr_cycle': 5, 'varD': 6.3, 'Petal length': 4.7, 'varB': 6.3, '_id': ObjectId('5cc353960dc9ab7be61225ff'), 'Observer': 1, 'Sepal length': 6.3, 'varC': 3.3, 'Species': 'I. versicolor', 'varA': 3.3}\n",
      "{'Sepal width': 2.4, 'Petal width': 1.0, 'Nr_cycle': 5, 'varD': 4.9, 'Petal length': 3.3, 'varB': 4.9, '_id': ObjectId('5cc353960dc9ab7be6122600'), 'Observer': 1, 'Sepal length': 4.9, 'varC': 2.4, 'Species': 'I. versicolor', 'varA': 2.4}\n",
      "{'Sepal width': 2.9, 'Petal width': 1.3, 'Nr_cycle': 5, 'varD': 6.6, 'Petal length': 4.6, 'varB': 6.6, '_id': ObjectId('5cc353960dc9ab7be6122601'), 'Observer': 1, 'Sepal length': 6.6, 'varC': 2.9, 'Species': 'I. versicolor', 'varA': 2.9}\n",
      "{'Sepal width': 2.7, 'Petal width': 1.4, 'Nr_cycle': 5, 'varD': 5.2, 'Petal length': 3.9, 'varB': 5.2, '_id': ObjectId('5cc353960dc9ab7be6122602'), 'Observer': 1, 'Sepal length': 5.2, 'varC': 2.7, 'Species': 'I. versicolor', 'varA': 2.7}\n",
      "{'Sepal width': 2.0, 'Petal width': 1.0, 'Nr_cycle': 5, 'varD': 5.0, 'Petal length': 3.5, 'varB': 5.0, '_id': ObjectId('5cc353960dc9ab7be6122603'), 'Observer': 1, 'Sepal length': 5.0, 'varC': 2.0, 'Species': 'I. versicolor', 'varA': 2.0}\n",
      "{'Sepal width': 3.0, 'Petal width': 1.5, 'Nr_cycle': 5, 'varD': 5.9, 'Petal length': 4.2, 'varB': 5.9, '_id': ObjectId('5cc353960dc9ab7be6122604'), 'Observer': 1, 'Sepal length': 5.9, 'varC': 3.0, 'Species': 'I. versicolor', 'varA': 3.0}\n",
      "{'Sepal width': 2.2, 'Petal width': 1.0, 'Nr_cycle': 5, 'varD': 6.0, 'Petal length': 4.0, 'varB': 6.0, '_id': ObjectId('5cc353960dc9ab7be6122605'), 'Observer': 1, 'Sepal length': 6.0, 'varC': 2.2, 'Species': 'I. versicolor', 'varA': 2.2}\n",
      "{'Sepal width': 2.9, 'Petal width': 1.4, 'Nr_cycle': 5, 'varD': 6.1, 'Petal length': 4.7, 'varB': 6.1, '_id': ObjectId('5cc353960dc9ab7be6122606'), 'Observer': 1, 'Sepal length': 6.1, 'varC': 2.9, 'Species': 'I. versicolor', 'varA': 2.9}\n",
      "{'Sepal width': 2.9, 'Petal width': 1.3, 'Nr_cycle': 10, 'varD': 5.6, 'Petal length': 3.6, 'varB': 5.6, '_id': ObjectId('5cc353960dc9ab7be6122607'), 'Observer': 1, 'Sepal length': 5.6, 'varC': 2.9, 'Species': 'I. versicolor', 'varA': 2.9}\n",
      "{'Sepal width': 3.1, 'Petal width': 1.4, 'Nr_cycle': 10, 'varD': 6.7, 'Petal length': 4.4, 'varB': 6.7, '_id': ObjectId('5cc353960dc9ab7be6122608'), 'Observer': 1, 'Sepal length': 6.7, 'varC': 3.1, 'Species': 'I. versicolor', 'varA': 3.1}\n",
      "{'Sepal width': 3.0, 'Petal width': 1.5, 'Nr_cycle': 10, 'varD': 5.6, 'Petal length': 4.5, 'varB': 5.6, '_id': ObjectId('5cc353960dc9ab7be6122609'), 'Observer': 1, 'Sepal length': 5.6, 'varC': 3.0, 'Species': 'I. versicolor', 'varA': 3.0}\n",
      "{'Sepal width': 2.7, 'Petal width': 1.0, 'Nr_cycle': 10, 'varD': 5.8, 'Petal length': 4.1, 'varB': 5.8, '_id': ObjectId('5cc353960dc9ab7be612260a'), 'Observer': 1, 'Sepal length': 5.8, 'varC': 2.7, 'Species': 'I. versicolor', 'varA': 2.7}\n",
      "{'Sepal width': 2.2, 'Petal width': 1.5, 'Nr_cycle': 10, 'varD': 6.2, 'Petal length': 4.5, 'varB': 6.2, '_id': ObjectId('5cc353960dc9ab7be612260b'), 'Observer': 1, 'Sepal length': 6.2, 'varC': 2.2, 'Species': 'I. versicolor', 'varA': 2.2}\n",
      "{'Sepal width': 2.5, 'Petal width': 1.1, 'Nr_cycle': 10, 'varD': 5.6, 'Petal length': 3.9, 'varB': 5.6, '_id': ObjectId('5cc353960dc9ab7be612260c'), 'Observer': 1, 'Sepal length': 5.6, 'varC': 2.5, 'Species': 'I. versicolor', 'varA': 2.5}\n",
      "{'Sepal width': 3.2, 'Petal width': 1.8, 'Nr_cycle': 10, 'varD': 5.9, 'Petal length': 4.8, 'varB': 5.9, '_id': ObjectId('5cc353960dc9ab7be612260d'), 'Observer': 1, 'Sepal length': 5.9, 'varC': 3.2, 'Species': 'I. versicolor', 'varA': 3.2}\n",
      "{'Sepal width': 2.8, 'Petal width': 1.3, 'Nr_cycle': 10, 'varD': 6.1, 'Petal length': 4.0, 'varB': 6.1, '_id': ObjectId('5cc353960dc9ab7be612260e'), 'Observer': 1, 'Sepal length': 6.1, 'varC': 2.8, 'Species': 'I. versicolor', 'varA': 2.8}\n",
      "{'Sepal width': 2.5, 'Petal width': 1.5, 'Nr_cycle': 10, 'varD': 6.3, 'Petal length': 4.9, 'varB': 6.3, '_id': ObjectId('5cc353960dc9ab7be612260f'), 'Observer': 1, 'Sepal length': 6.3, 'varC': 2.5, 'Species': 'I. versicolor', 'varA': 2.5}\n",
      "{'Sepal width': 2.8, 'Petal width': 1.2, 'Nr_cycle': 10, 'varD': 6.1, 'Petal length': 4.7, 'varB': 6.1, '_id': ObjectId('5cc353960dc9ab7be6122610'), 'Observer': 1, 'Sepal length': 6.1, 'varC': 2.8, 'Species': 'I. versicolor', 'varA': 2.8}\n",
      "{'Sepal width': 2.9, 'Petal width': 1.3, 'Nr_cycle': 10, 'varD': 6.4, 'Petal length': 4.3, 'varB': 6.4, '_id': ObjectId('5cc353960dc9ab7be6122611'), 'Observer': 1, 'Sepal length': 6.4, 'varC': 2.9, 'Species': 'I. versicolor', 'varA': 2.9}\n",
      "{'Sepal width': 3.0, 'Petal width': 1.4, 'Nr_cycle': 10, 'varD': 6.6, 'Petal length': 4.4, 'varB': 6.6, '_id': ObjectId('5cc353960dc9ab7be6122612'), 'Observer': 1, 'Sepal length': 6.6, 'varC': 3.0, 'Species': 'I. versicolor', 'varA': 3.0}\n",
      "{'Sepal width': 2.8, 'Petal width': 1.4, 'Nr_cycle': 10, 'varD': 6.8, 'Petal length': 4.8, 'varB': 6.8, '_id': ObjectId('5cc353960dc9ab7be6122613'), 'Observer': 1, 'Sepal length': 6.8, 'varC': 2.8, 'Species': 'I. versicolor', 'varA': 2.8}\n",
      "{'Sepal width': 3.0, 'Petal width': 1.7, 'Nr_cycle': 12, 'varD': 6.7, 'Petal length': 5.0, 'varB': 6.7, '_id': ObjectId('5cc353960dc9ab7be6122614'), 'Observer': 1, 'Sepal length': 6.7, 'varC': 3.0, 'Species': 'I. versicolor', 'varA': 3.0}\n",
      "{'Sepal width': 2.9, 'Petal width': 1.5, 'Nr_cycle': 12, 'varD': 6.0, 'Petal length': 4.5, 'varB': 6.0, '_id': ObjectId('5cc353960dc9ab7be6122615'), 'Observer': 1, 'Sepal length': 6.0, 'varC': 2.9, 'Species': 'I. versicolor', 'varA': 2.9}\n",
      "{'Sepal width': 2.6, 'Petal width': 1.0, 'Nr_cycle': 12, 'varD': 5.7, 'Petal length': 3.5, 'varB': 5.7, '_id': ObjectId('5cc353960dc9ab7be6122616'), 'Observer': 1, 'Sepal length': 5.7, 'varC': 2.6, 'Species': 'I. versicolor', 'varA': 2.6}\n",
      "{'Sepal width': 2.4, 'Petal width': 1.1, 'Nr_cycle': 12, 'varD': 5.5, 'Petal length': 3.8, 'varB': 5.5, '_id': ObjectId('5cc353960dc9ab7be6122617'), 'Observer': 1, 'Sepal length': 5.5, 'varC': 2.4, 'Species': 'I. versicolor', 'varA': 2.4}\n",
      "{'Sepal width': 2.4, 'Petal width': 1.0, 'Nr_cycle': 12, 'varD': 5.5, 'Petal length': 3.7, 'varB': 5.5, '_id': ObjectId('5cc353960dc9ab7be6122618'), 'Observer': 1, 'Sepal length': 5.5, 'varC': 2.4, 'Species': 'I. versicolor', 'varA': 2.4}\n",
      "{'Sepal width': 2.7, 'Petal width': 1.2, 'Nr_cycle': 12, 'varD': 5.8, 'Petal length': 3.9, 'varB': 5.8, '_id': ObjectId('5cc353960dc9ab7be6122619'), 'Observer': 1, 'Sepal length': 5.8, 'varC': 2.7, 'Species': 'I. versicolor', 'varA': 2.7}\n",
      "{'Sepal width': 2.7, 'Petal width': 1.6, 'Nr_cycle': 12, 'varD': 6.0, 'Petal length': 5.1, 'varB': 6.0, '_id': ObjectId('5cc353960dc9ab7be612261a'), 'Observer': 1, 'Sepal length': 6.0, 'varC': 2.7, 'Species': 'I. versicolor', 'varA': 2.7}\n",
      "{'Sepal width': 3.0, 'Petal width': 1.5, 'Nr_cycle': 12, 'varD': 5.4, 'Petal length': 4.5, 'varB': 5.4, '_id': ObjectId('5cc353960dc9ab7be612261b'), 'Observer': 1, 'Sepal length': 5.4, 'varC': 3.0, 'Species': 'I. versicolor', 'varA': 3.0}\n",
      "{'Sepal width': 3.4, 'Petal width': 1.6, 'Nr_cycle': 12, 'varD': 6.0, 'Petal length': 4.5, 'varB': 6.0, '_id': ObjectId('5cc353960dc9ab7be612261c'), 'Observer': 1, 'Sepal length': 6.0, 'varC': 3.4, 'Species': 'I. versicolor', 'varA': 3.4}\n",
      "{'Sepal width': 3.1, 'Petal width': 1.5, 'Nr_cycle': 12, 'varD': 6.7, 'Petal length': 4.7, 'varB': 6.7, '_id': ObjectId('5cc353960dc9ab7be612261d'), 'Observer': 1, 'Sepal length': 6.7, 'varC': 3.1, 'Species': 'I. versicolor', 'varA': 3.1}\n",
      "{'Sepal width': 2.3, 'Petal width': 1.3, 'Nr_cycle': 12, 'varD': 6.3, 'Petal length': 4.4, 'varB': 6.3, '_id': ObjectId('5cc353960dc9ab7be612261e'), 'Observer': 1, 'Sepal length': 6.3, 'varC': 2.3, 'Species': 'I. versicolor', 'varA': 2.3}\n",
      "{'Sepal width': 3.0, 'Petal width': 1.3, 'Nr_cycle': 12, 'varD': 5.6, 'Petal length': 4.1, 'varB': 5.6, '_id': ObjectId('5cc353960dc9ab7be612261f'), 'Observer': 1, 'Sepal length': 5.6, 'varC': 3.0, 'Species': 'I. versicolor', 'varA': 3.0}\n",
      "{'Sepal width': 2.5, 'Petal width': 1.3, 'Nr_cycle': 12, 'varD': 5.5, 'Petal length': 4.0, 'varB': 5.5, '_id': ObjectId('5cc353960dc9ab7be6122620'), 'Observer': 1, 'Sepal length': 5.5, 'varC': 2.5, 'Species': 'I. versicolor', 'varA': 2.5}\n",
      "{'Sepal width': 2.6, 'Petal width': 1.2, 'Nr_cycle': 12, 'varD': 5.5, 'Petal length': 4.4, 'varB': 5.5, '_id': ObjectId('5cc353960dc9ab7be6122621'), 'Observer': 1, 'Sepal length': 5.5, 'varC': 2.6, 'Species': 'I. versicolor', 'varA': 2.6}\n",
      "{'Sepal width': 3.0, 'Petal width': 1.4, 'Nr_cycle': 12, 'varD': 6.1, 'Petal length': 4.6, 'varB': 6.1, '_id': ObjectId('5cc353960dc9ab7be6122622'), 'Observer': 1, 'Sepal length': 6.1, 'varC': 3.0, 'Species': 'I. versicolor', 'varA': 3.0}\n",
      "{'Sepal width': 2.6, 'Petal width': 1.2, 'Nr_cycle': 12, 'varD': 5.8, 'Petal length': 4.0, 'varB': 5.8, '_id': ObjectId('5cc353960dc9ab7be6122623'), 'Observer': 1, 'Sepal length': 5.8, 'varC': 2.6, 'Species': 'I. versicolor', 'varA': 2.6}\n",
      "{'Sepal width': 2.3, 'Petal width': 1.0, 'Nr_cycle': 12, 'varD': 5.0, 'Petal length': 3.3, 'varB': 5.0, '_id': ObjectId('5cc353960dc9ab7be6122624'), 'Observer': 1, 'Sepal length': 5.0, 'varC': 2.3, 'Species': 'I. versicolor', 'varA': 2.3}\n",
      "{'Sepal width': 2.7, 'Petal width': 1.3, 'Nr_cycle': 12, 'varD': 5.6, 'Petal length': 4.2, 'varB': 5.6, '_id': ObjectId('5cc353960dc9ab7be6122625'), 'Observer': 1, 'Sepal length': 5.6, 'varC': 2.7, 'Species': 'I. versicolor', 'varA': 2.7}\n",
      "{'Sepal width': 3.0, 'Petal width': 1.2, 'Nr_cycle': 12, 'varD': 5.7, 'Petal length': 4.2, 'varB': 5.7, '_id': ObjectId('5cc353960dc9ab7be6122626'), 'Observer': 1, 'Sepal length': 5.7, 'varC': 3.0, 'Species': 'I. versicolor', 'varA': 3.0}\n",
      "{'Sepal width': 2.9, 'Petal width': 1.3, 'Nr_cycle': 12, 'varD': 5.7, 'Petal length': 4.2, 'varB': 5.7, '_id': ObjectId('5cc353960dc9ab7be6122627'), 'Observer': 1, 'Sepal length': 5.7, 'varC': 2.9, 'Species': 'I. versicolor', 'varA': 2.9}\n",
      "{'Sepal width': 2.9, 'Petal width': 1.3, 'Nr_cycle': 12, 'varD': 6.2, 'Petal length': 4.3, 'varB': 6.2, '_id': ObjectId('5cc353960dc9ab7be6122628'), 'Observer': 1, 'Sepal length': 6.2, 'varC': 2.9, 'Species': 'I. versicolor', 'varA': 2.9}\n",
      "{'Sepal width': 2.5, 'Petal width': 1.1, 'Nr_cycle': 12, 'varD': 5.1, 'Petal length': 3.0, 'varB': 5.1, '_id': ObjectId('5cc353960dc9ab7be6122629'), 'Observer': 1, 'Sepal length': 5.1, 'varC': 2.5, 'Species': 'I. versicolor', 'varA': 2.5}\n",
      "{'Sepal width': 2.8, 'Petal width': 1.3, 'Nr_cycle': 12, 'varD': 5.7, 'Petal length': 4.1, 'varB': 5.7, '_id': ObjectId('5cc353960dc9ab7be612262a'), 'Observer': 1, 'Sepal length': 5.7, 'varC': 2.8, 'Species': 'I. versicolor', 'varA': 2.8}\n",
      "{'Sepal width': 3.3, 'Petal width': 2.5, 'Nr_cycle': 5, 'varD': 6.3, 'Petal length': 6.0, 'varB': 6.3, '_id': ObjectId('5cc353960dc9ab7be612262b'), 'Observer': 1, 'Sepal length': 6.3, 'varC': 3.3, 'Species': 'I. virginica', 'varA': 3.3}\n",
      "{'Sepal width': 2.7, 'Petal width': 1.9, 'Nr_cycle': 5, 'varD': 5.8, 'Petal length': 5.1, 'varB': 5.8, '_id': ObjectId('5cc353960dc9ab7be612262c'), 'Observer': 1, 'Sepal length': 5.8, 'varC': 2.7, 'Species': 'I. virginica', 'varA': 2.7}\n",
      "{'Sepal width': 3.0, 'Petal width': 2.1, 'Nr_cycle': 5, 'varD': 7.1, 'Petal length': 5.9, 'varB': 7.1, '_id': ObjectId('5cc353960dc9ab7be612262d'), 'Observer': 1, 'Sepal length': 7.1, 'varC': 3.0, 'Species': 'I. virginica', 'varA': 3.0}\n",
      "{'Sepal width': 2.9, 'Petal width': 1.8, 'Nr_cycle': 5, 'varD': 6.3, 'Petal length': 5.6, 'varB': 6.3, '_id': ObjectId('5cc353960dc9ab7be612262e'), 'Observer': 1, 'Sepal length': 6.3, 'varC': 2.9, 'Species': 'I. virginica', 'varA': 2.9}\n",
      "{'Sepal width': 3.0, 'Petal width': 2.2, 'Nr_cycle': 5, 'varD': 6.5, 'Petal length': 5.8, 'varB': 6.5, '_id': ObjectId('5cc353960dc9ab7be612262f'), 'Observer': 1, 'Sepal length': 6.5, 'varC': 3.0, 'Species': 'I. virginica', 'varA': 3.0}\n",
      "{'Sepal width': 3.0, 'Petal width': 2.1, 'Nr_cycle': 5, 'varD': 7.6, 'Petal length': 6.6, 'varB': 7.6, '_id': ObjectId('5cc353960dc9ab7be6122630'), 'Observer': 1, 'Sepal length': 7.6, 'varC': 3.0, 'Species': 'I. virginica', 'varA': 3.0}\n",
      "{'Sepal width': 2.5, 'Petal width': 1.7, 'Nr_cycle': 5, 'varD': 4.9, 'Petal length': 4.5, 'varB': 4.9, '_id': ObjectId('5cc353960dc9ab7be6122631'), 'Observer': 1, 'Sepal length': 4.9, 'varC': 2.5, 'Species': 'I. virginica', 'varA': 2.5}\n",
      "{'Sepal width': 2.9, 'Petal width': 1.8, 'Nr_cycle': 5, 'varD': 7.3, 'Petal length': 6.3, 'varB': 7.3, '_id': ObjectId('5cc353960dc9ab7be6122632'), 'Observer': 1, 'Sepal length': 7.3, 'varC': 2.9, 'Species': 'I. virginica', 'varA': 2.9}\n",
      "{'Sepal width': 2.5, 'Petal width': 1.8, 'Nr_cycle': 5, 'varD': 6.7, 'Petal length': 5.8, 'varB': 6.7, '_id': ObjectId('5cc353960dc9ab7be6122633'), 'Observer': 1, 'Sepal length': 6.7, 'varC': 2.5, 'Species': 'I. virginica', 'varA': 2.5}\n",
      "{'Sepal width': 3.6, 'Petal width': 2.5, 'Nr_cycle': 5, 'varD': 7.2, 'Petal length': 6.1, 'varB': 7.2, '_id': ObjectId('5cc353960dc9ab7be6122634'), 'Observer': 1, 'Sepal length': 7.2, 'varC': 3.6, 'Species': 'I. virginica', 'varA': 3.6}\n",
      "{'Sepal width': 3.2, 'Petal width': 2.0, 'Nr_cycle': 5, 'varD': 6.5, 'Petal length': 5.1, 'varB': 6.5, '_id': ObjectId('5cc353960dc9ab7be6122635'), 'Observer': 1, 'Sepal length': 6.5, 'varC': 3.2, 'Species': 'I. virginica', 'varA': 3.2}\n",
      "{'Sepal width': 2.7, 'Petal width': 1.9, 'Nr_cycle': 5, 'varD': 6.4, 'Petal length': 5.3, 'varB': 6.4, '_id': ObjectId('5cc353960dc9ab7be6122636'), 'Observer': 1, 'Sepal length': 6.4, 'varC': 2.7, 'Species': 'I. virginica', 'varA': 2.7}\n",
      "{'Sepal width': 3.0, 'Petal width': 2.1, 'Nr_cycle': 5, 'varD': 6.8, 'Petal length': 5.5, 'varB': 6.8, '_id': ObjectId('5cc353960dc9ab7be6122637'), 'Observer': 1, 'Sepal length': 6.8, 'varC': 3.0, 'Species': 'I. virginica', 'varA': 3.0}\n",
      "{'Sepal width': 2.5, 'Petal width': 2.0, 'Nr_cycle': 5, 'varD': 5.7, 'Petal length': 5.0, 'varB': 5.7, '_id': ObjectId('5cc353960dc9ab7be6122638'), 'Observer': 1, 'Sepal length': 5.7, 'varC': 2.5, 'Species': 'I. virginica', 'varA': 2.5}\n",
      "{'Sepal width': 2.8, 'Petal width': 2.4, 'Nr_cycle': 10, 'varD': 5.8, 'Petal length': 5.1, 'varB': 5.8, '_id': ObjectId('5cc353960dc9ab7be6122639'), 'Observer': 1, 'Sepal length': 5.8, 'varC': 2.8, 'Species': 'I. virginica', 'varA': 2.8}\n",
      "{'Sepal width': 3.2, 'Petal width': 2.3, 'Nr_cycle': 10, 'varD': 6.4, 'Petal length': 5.3, 'varB': 6.4, '_id': ObjectId('5cc353960dc9ab7be612263a'), 'Observer': 1, 'Sepal length': 6.4, 'varC': 3.2, 'Species': 'I. virginica', 'varA': 3.2}\n",
      "{'Sepal width': 3.0, 'Petal width': 1.8, 'Nr_cycle': 10, 'varD': 6.5, 'Petal length': 5.5, 'varB': 6.5, '_id': ObjectId('5cc353960dc9ab7be612263b'), 'Observer': 1, 'Sepal length': 6.5, 'varC': 3.0, 'Species': 'I. virginica', 'varA': 3.0}\n",
      "{'Sepal width': 3.8, 'Petal width': 2.2, 'Nr_cycle': 10, 'varD': 7.7, 'Petal length': 6.7, 'varB': 7.7, '_id': ObjectId('5cc353960dc9ab7be612263c'), 'Observer': 1, 'Sepal length': 7.7, 'varC': 3.8, 'Species': 'I. virginica', 'varA': 3.8}\n",
      "{'Sepal width': 2.6, 'Petal width': 2.3, 'Nr_cycle': 10, 'varD': 7.7, 'Petal length': 6.9, 'varB': 7.7, '_id': ObjectId('5cc353960dc9ab7be612263d'), 'Observer': 1, 'Sepal length': 7.7, 'varC': 2.6, 'Species': 'I. virginica', 'varA': 2.6}\n",
      "{'Sepal width': 2.2, 'Petal width': 1.5, 'Nr_cycle': 10, 'varD': 6.0, 'Petal length': 5.0, 'varB': 6.0, '_id': ObjectId('5cc353960dc9ab7be612263e'), 'Observer': 1, 'Sepal length': 6.0, 'varC': 2.2, 'Species': 'I. virginica', 'varA': 2.2}\n",
      "{'Sepal width': 3.2, 'Petal width': 2.3, 'Nr_cycle': 10, 'varD': 6.9, 'Petal length': 5.7, 'varB': 6.9, '_id': ObjectId('5cc353960dc9ab7be612263f'), 'Observer': 1, 'Sepal length': 6.9, 'varC': 3.2, 'Species': 'I. virginica', 'varA': 3.2}\n",
      "{'Sepal width': 2.8, 'Petal width': 2.0, 'Nr_cycle': 10, 'varD': 5.6, 'Petal length': 4.9, 'varB': 5.6, '_id': ObjectId('5cc353960dc9ab7be6122640'), 'Observer': 1, 'Sepal length': 5.6, 'varC': 2.8, 'Species': 'I. virginica', 'varA': 2.8}\n",
      "{'Sepal width': 2.8, 'Petal width': 2.0, 'Nr_cycle': 10, 'varD': 7.7, 'Petal length': 6.7, 'varB': 7.7, '_id': ObjectId('5cc353960dc9ab7be6122641'), 'Observer': 1, 'Sepal length': 7.7, 'varC': 2.8, 'Species': 'I. virginica', 'varA': 2.8}\n",
      "{'Sepal width': 2.7, 'Petal width': 1.8, 'Nr_cycle': 10, 'varD': 6.3, 'Petal length': 4.9, 'varB': 6.3, '_id': ObjectId('5cc353960dc9ab7be6122642'), 'Observer': 1, 'Sepal length': 6.3, 'varC': 2.7, 'Species': 'I. virginica', 'varA': 2.7}\n",
      "{'Sepal width': 3.3, 'Petal width': 2.1, 'Nr_cycle': 10, 'varD': 6.7, 'Petal length': 5.7, 'varB': 6.7, '_id': ObjectId('5cc353960dc9ab7be6122643'), 'Observer': 1, 'Sepal length': 6.7, 'varC': 3.3, 'Species': 'I. virginica', 'varA': 3.3}\n",
      "{'Sepal width': 3.2, 'Petal width': 1.8, 'Nr_cycle': 10, 'varD': 7.2, 'Petal length': 6.0, 'varB': 7.2, '_id': ObjectId('5cc353960dc9ab7be6122644'), 'Observer': 1, 'Sepal length': 7.2, 'varC': 3.2, 'Species': 'I. virginica', 'varA': 3.2}\n",
      "{'Sepal width': 2.8, 'Petal width': 1.8, 'Nr_cycle': 10, 'varD': 6.2, 'Petal length': 4.8, 'varB': 6.2, '_id': ObjectId('5cc353960dc9ab7be6122645'), 'Observer': 1, 'Sepal length': 6.2, 'varC': 2.8, 'Species': 'I. virginica', 'varA': 2.8}\n",
      "{'Sepal width': 3.0, 'Petal width': 1.8, 'Nr_cycle': 12, 'varD': 6.1, 'Petal length': 4.9, 'varB': 6.1, '_id': ObjectId('5cc353960dc9ab7be6122646'), 'Observer': 1, 'Sepal length': 6.1, 'varC': 3.0, 'Species': 'I. virginica', 'varA': 3.0}\n",
      "{'Sepal width': 2.8, 'Petal width': 2.1, 'Nr_cycle': 12, 'varD': 6.4, 'Petal length': 5.6, 'varB': 6.4, '_id': ObjectId('5cc353960dc9ab7be6122647'), 'Observer': 1, 'Sepal length': 6.4, 'varC': 2.8, 'Species': 'I. virginica', 'varA': 2.8}\n",
      "{'Sepal width': 3.0, 'Petal width': 1.6, 'Nr_cycle': 12, 'varD': 7.2, 'Petal length': 5.8, 'varB': 7.2, '_id': ObjectId('5cc353960dc9ab7be6122648'), 'Observer': 1, 'Sepal length': 7.2, 'varC': 3.0, 'Species': 'I. virginica', 'varA': 3.0}\n",
      "{'Sepal width': 2.8, 'Petal width': 1.9, 'Nr_cycle': 12, 'varD': 7.4, 'Petal length': 6.1, 'varB': 7.4, '_id': ObjectId('5cc353960dc9ab7be6122649'), 'Observer': 1, 'Sepal length': 7.4, 'varC': 2.8, 'Species': 'I. virginica', 'varA': 2.8}\n",
      "{'Sepal width': 3.8, 'Petal width': 2.0, 'Nr_cycle': 12, 'varD': 7.9, 'Petal length': 6.4, 'varB': 7.9, '_id': ObjectId('5cc353960dc9ab7be612264a'), 'Observer': 1, 'Sepal length': 7.9, 'varC': 3.8, 'Species': 'I. virginica', 'varA': 3.8}\n",
      "{'Sepal width': 2.8, 'Petal width': 2.2, 'Nr_cycle': 12, 'varD': 6.4, 'Petal length': 5.6, 'varB': 6.4, '_id': ObjectId('5cc353960dc9ab7be612264b'), 'Observer': 1, 'Sepal length': 6.4, 'varC': 2.8, 'Species': 'I. virginica', 'varA': 2.8}\n",
      "{'Sepal width': 2.8, 'Petal width': 1.5, 'Nr_cycle': 12, 'varD': 6.3, 'Petal length': 5.1, 'varB': 6.3, '_id': ObjectId('5cc353960dc9ab7be612264c'), 'Observer': 1, 'Sepal length': 6.3, 'varC': 2.8, 'Species': 'I. virginica', 'varA': 2.8}\n",
      "{'Sepal width': 2.6, 'Petal width': 1.4, 'Nr_cycle': 12, 'varD': 6.1, 'Petal length': 5.6, 'varB': 6.1, '_id': ObjectId('5cc353960dc9ab7be612264d'), 'Observer': 1, 'Sepal length': 6.1, 'varC': 2.6, 'Species': 'I. virginica', 'varA': 2.6}\n",
      "{'Sepal width': 3.0, 'Petal width': 2.3, 'Nr_cycle': 12, 'varD': 7.7, 'Petal length': 6.1, 'varB': 7.7, '_id': ObjectId('5cc353960dc9ab7be612264e'), 'Observer': 1, 'Sepal length': 7.7, 'varC': 3.0, 'Species': 'I. virginica', 'varA': 3.0}\n",
      "{'Sepal width': 3.4, 'Petal width': 2.4, 'Nr_cycle': 12, 'varD': 6.3, 'Petal length': 5.6, 'varB': 6.3, '_id': ObjectId('5cc353960dc9ab7be612264f'), 'Observer': 1, 'Sepal length': 6.3, 'varC': 3.4, 'Species': 'I. virginica', 'varA': 3.4}\n",
      "{'Sepal width': 3.1, 'Petal width': 1.8, 'Nr_cycle': 12, 'varD': 6.4, 'Petal length': 5.5, 'varB': 6.4, '_id': ObjectId('5cc353960dc9ab7be6122650'), 'Observer': 1, 'Sepal length': 6.4, 'varC': 3.1, 'Species': 'I. virginica', 'varA': 3.1}\n",
      "{'Sepal width': 3.0, 'Petal width': 1.8, 'Nr_cycle': 12, 'varD': 6.0, 'Petal length': 4.8, 'varB': 6.0, '_id': ObjectId('5cc353960dc9ab7be6122651'), 'Observer': 1, 'Sepal length': 6.0, 'varC': 3.0, 'Species': 'I. virginica', 'varA': 3.0}\n",
      "{'Sepal width': 3.1, 'Petal width': 2.1, 'Nr_cycle': 12, 'varD': 6.9, 'Petal length': 5.4, 'varB': 6.9, '_id': ObjectId('5cc353960dc9ab7be6122652'), 'Observer': 1, 'Sepal length': 6.9, 'varC': 3.1, 'Species': 'I. virginica', 'varA': 3.1}\n",
      "{'Sepal width': 3.1, 'Petal width': 2.4, 'Nr_cycle': 12, 'varD': 6.7, 'Petal length': 5.6, 'varB': 6.7, '_id': ObjectId('5cc353960dc9ab7be6122653'), 'Observer': 1, 'Sepal length': 6.7, 'varC': 3.1, 'Species': 'I. virginica', 'varA': 3.1}\n",
      "{'Sepal width': 3.1, 'Petal width': 2.3, 'Nr_cycle': 12, 'varD': 6.9, 'Petal length': 5.1, 'varB': 6.9, '_id': ObjectId('5cc353960dc9ab7be6122654'), 'Observer': 1, 'Sepal length': 6.9, 'varC': 3.1, 'Species': 'I. virginica', 'varA': 3.1}\n",
      "{'Sepal width': 2.7, 'Petal width': 1.9, 'Nr_cycle': 12, 'varD': 5.8, 'Petal length': 5.1, 'varB': 5.8, '_id': ObjectId('5cc353960dc9ab7be6122655'), 'Observer': 1, 'Sepal length': 5.8, 'varC': 2.7, 'Species': 'I. virginica', 'varA': 2.7}\n",
      "{'Sepal width': 3.2, 'Petal width': 2.3, 'Nr_cycle': 12, 'varD': 6.8, 'Petal length': 5.9, 'varB': 6.8, '_id': ObjectId('5cc353960dc9ab7be6122656'), 'Observer': 1, 'Sepal length': 6.8, 'varC': 3.2, 'Species': 'I. virginica', 'varA': 3.2}\n",
      "{'Sepal width': 3.3, 'Petal width': 2.5, 'Nr_cycle': 12, 'varD': 6.7, 'Petal length': 5.7, 'varB': 6.7, '_id': ObjectId('5cc353960dc9ab7be6122657'), 'Observer': 1, 'Sepal length': 6.7, 'varC': 3.3, 'Species': 'I. virginica', 'varA': 3.3}\n",
      "{'Sepal width': 3.0, 'Petal width': 2.3, 'Nr_cycle': 12, 'varD': 6.7, 'Petal length': 5.2, 'varB': 6.7, '_id': ObjectId('5cc353960dc9ab7be6122658'), 'Observer': 1, 'Sepal length': 6.7, 'varC': 3.0, 'Species': 'I. virginica', 'varA': 3.0}\n",
      "{'Sepal width': 2.5, 'Petal width': 1.9, 'Nr_cycle': 12, 'varD': 6.3, 'Petal length': 5.0, 'varB': 6.3, '_id': ObjectId('5cc353960dc9ab7be6122659'), 'Observer': 1, 'Sepal length': 6.3, 'varC': 2.5, 'Species': 'I. virginica', 'varA': 2.5}\n",
      "{'Sepal width': 3.0, 'Petal width': 2.0, 'Nr_cycle': 12, 'varD': 6.5, 'Petal length': 5.2, 'varB': 6.5, '_id': ObjectId('5cc353960dc9ab7be612265a'), 'Observer': 1, 'Sepal length': 6.5, 'varC': 3.0, 'Species': 'I. virginica', 'varA': 3.0}\n",
      "{'Sepal width': 3.4, 'Petal width': 2.3, 'Nr_cycle': 12, 'varD': 6.2, 'Petal length': 5.4, 'varB': 6.2, '_id': ObjectId('5cc353960dc9ab7be612265b'), 'Observer': 1, 'Sepal length': 6.2, 'varC': 3.4, 'Species': 'I. virginica', 'varA': 3.4}\n",
      "{'Sepal width': 3.0, 'Petal width': 1.8, 'Nr_cycle': 12, 'varD': 5.9, 'Petal length': 5.1, 'varB': 5.9, '_id': ObjectId('5cc353960dc9ab7be612265c'), 'Observer': 1, 'Sepal length': 5.9, 'varC': 3.0, 'Species': 'I. virginica', 'varA': 3.0}\n"
     ]
    }
   ],
   "source": [
    "for species in iris.find({'Observer': 1}):\n",
    "    print(species)"
   ]
  },
  {
   "cell_type": "code",
   "execution_count": 59,
   "metadata": {},
   "outputs": [
    {
     "data": {
      "text/plain": [
       "350"
      ]
     },
     "execution_count": 59,
     "metadata": {},
     "output_type": "execute_result"
    }
   ],
   "source": [
    "iris.count_documents({'Species': 'I. versicolor'})"
   ]
  },
  {
   "cell_type": "code",
   "execution_count": null,
   "metadata": {},
   "outputs": [],
   "source": []
  },
  {
   "cell_type": "code",
   "execution_count": null,
   "metadata": {},
   "outputs": [],
   "source": []
  }
 ],
 "metadata": {
  "kernelspec": {
   "display_name": "Python 3",
   "language": "python",
   "name": "python3"
  },
  "language_info": {
   "codemirror_mode": {
    "name": "ipython",
    "version": 3
   },
   "file_extension": ".py",
   "mimetype": "text/x-python",
   "name": "python",
   "nbconvert_exporter": "python",
   "pygments_lexer": "ipython3",
   "version": "3.5.3"
  }
 },
 "nbformat": 4,
 "nbformat_minor": 2
}
